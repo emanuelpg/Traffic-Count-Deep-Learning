{
 "cells": [
  {
   "cell_type": "code",
   "execution_count": 2,
   "id": "b81710d2-1017-49b9-a54d-c54b59508fc5",
   "metadata": {},
   "outputs": [],
   "source": [
    "import torch\n",
    "import torchvision"
   ]
  },
  {
   "cell_type": "code",
   "execution_count": 6,
   "id": "9626ba7f-11b6-461f-8c55-4892e67cf3e4",
   "metadata": {},
   "outputs": [],
   "source": [
    "model_list = torchvision.models.list_models()"
   ]
  },
  {
   "cell_type": "code",
   "execution_count": 4,
   "id": "18ef1a11-2310-4a73-a57a-548515308620",
   "metadata": {},
   "outputs": [],
   "source": [
    "for model_name in model_list:\n",
    "    model = torchvision.models.get_model(model_name)\n",
    "    if()"
   ]
  },
  {
   "cell_type": "code",
   "execution_count": 7,
   "id": "c1df6cd0-87c1-488d-ade8-9aa024efea4f",
   "metadata": {},
   "outputs": [],
   "source": [
    "w = torchvision.models.get_weight"
   ]
  },
  {
   "cell_type": "code",
   "execution_count": 12,
   "id": "2c9b5497-b604-4fc6-a08e-63dd4c1a89f9",
   "metadata": {},
   "outputs": [
    {
     "name": "stdout",
     "output_type": "stream",
     "text": [
      "<enum 'AlexNet_Weights'>\n"
     ]
    }
   ],
   "source": [
    "print(w)"
   ]
  }
 ],
 "metadata": {
  "kernelspec": {
   "display_name": "Python 3 (ipykernel)",
   "language": "python",
   "name": "python3"
  },
  "language_info": {
   "codemirror_mode": {
    "name": "ipython",
    "version": 3
   },
   "file_extension": ".py",
   "mimetype": "text/x-python",
   "name": "python",
   "nbconvert_exporter": "python",
   "pygments_lexer": "ipython3",
   "version": "3.11.5"
  }
 },
 "nbformat": 4,
 "nbformat_minor": 5
}

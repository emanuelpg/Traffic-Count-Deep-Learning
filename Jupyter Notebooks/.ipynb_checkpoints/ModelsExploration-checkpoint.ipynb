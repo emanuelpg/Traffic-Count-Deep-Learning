{
 "cells": [
  {
   "cell_type": "code",
   "execution_count": 1,
   "id": "b81710d2-1017-49b9-a54d-c54b59508fc5",
   "metadata": {},
   "outputs": [],
   "source": [
    "import torch\n",
    "import torchvision"
   ]
  },
  {
   "cell_type": "code",
   "execution_count": 2,
   "id": "9626ba7f-11b6-461f-8c55-4892e67cf3e4",
   "metadata": {},
   "outputs": [
    {
     "name": "stdout",
     "output_type": "stream",
     "text": [
      "Models available: \n",
      "['alexnet', 'convnext_base', 'convnext_large', 'convnext_small', 'convnext_tiny', 'deeplabv3_mobilenet_v3_large', 'deeplabv3_resnet101', 'deeplabv3_resnet50', 'densenet121', 'densenet161', 'densenet169', 'densenet201', 'efficientnet_b0', 'efficientnet_b1', 'efficientnet_b2', 'efficientnet_b3', 'efficientnet_b4', 'efficientnet_b5', 'efficientnet_b6', 'efficientnet_b7', 'efficientnet_v2_l', 'efficientnet_v2_m', 'efficientnet_v2_s', 'fasterrcnn_mobilenet_v3_large_320_fpn', 'fasterrcnn_mobilenet_v3_large_fpn', 'fasterrcnn_resnet50_fpn', 'fasterrcnn_resnet50_fpn_v2', 'fcn_resnet101', 'fcn_resnet50', 'fcos_resnet50_fpn', 'googlenet', 'inception_v3', 'keypointrcnn_resnet50_fpn', 'lraspp_mobilenet_v3_large', 'maskrcnn_resnet50_fpn', 'maskrcnn_resnet50_fpn_v2', 'maxvit_t', 'mc3_18', 'mnasnet0_5', 'mnasnet0_75', 'mnasnet1_0', 'mnasnet1_3', 'mobilenet_v2', 'mobilenet_v3_large', 'mobilenet_v3_small', 'mvit_v1_b', 'mvit_v2_s', 'quantized_googlenet', 'quantized_inception_v3', 'quantized_mobilenet_v2', 'quantized_mobilenet_v3_large', 'quantized_resnet18', 'quantized_resnet50', 'quantized_resnext101_32x8d', 'quantized_resnext101_64x4d', 'quantized_shufflenet_v2_x0_5', 'quantized_shufflenet_v2_x1_0', 'quantized_shufflenet_v2_x1_5', 'quantized_shufflenet_v2_x2_0', 'r2plus1d_18', 'r3d_18', 'raft_large', 'raft_small', 'regnet_x_16gf', 'regnet_x_1_6gf', 'regnet_x_32gf', 'regnet_x_3_2gf', 'regnet_x_400mf', 'regnet_x_800mf', 'regnet_x_8gf', 'regnet_y_128gf', 'regnet_y_16gf', 'regnet_y_1_6gf', 'regnet_y_32gf', 'regnet_y_3_2gf', 'regnet_y_400mf', 'regnet_y_800mf', 'regnet_y_8gf', 'resnet101', 'resnet152', 'resnet18', 'resnet34', 'resnet50', 'resnext101_32x8d', 'resnext101_64x4d', 'resnext50_32x4d', 'retinanet_resnet50_fpn', 'retinanet_resnet50_fpn_v2', 's3d', 'shufflenet_v2_x0_5', 'shufflenet_v2_x1_0', 'shufflenet_v2_x1_5', 'shufflenet_v2_x2_0', 'squeezenet1_0', 'squeezenet1_1', 'ssd300_vgg16', 'ssdlite320_mobilenet_v3_large', 'swin3d_b', 'swin3d_s', 'swin3d_t', 'swin_b', 'swin_s', 'swin_t', 'swin_v2_b', 'swin_v2_s', 'swin_v2_t', 'vgg11', 'vgg11_bn', 'vgg13', 'vgg13_bn', 'vgg16', 'vgg16_bn', 'vgg19', 'vgg19_bn', 'vit_b_16', 'vit_b_32', 'vit_h_14', 'vit_l_16', 'vit_l_32', 'wide_resnet101_2', 'wide_resnet50_2']\n"
     ]
    }
   ],
   "source": [
    "model_list = torchvision.models.list_models()\n",
    "print(\"Models available: \")\n",
    "print(model_list)"
   ]
  },
  {
   "cell_type": "markdown",
   "id": "24459afb-b951-4756-a396-00982d3bf3ac",
   "metadata": {},
   "source": [
    "## Finding Models with vehicle classes"
   ]
  },
  {
   "cell_type": "code",
   "execution_count": 17,
   "id": "10023799-65ba-4284-a002-9435e53cd68c",
   "metadata": {},
   "outputs": [],
   "source": [
    "def find_vehicle_class(weights):\n",
    "    for cat in weights.meta[\"categories\"]:\n",
    "        if(cat.find(\"vehicle\") >= 0 or cat.find(\"car\") >= 0 or cat.find(\"truck\") >= 0):\n",
    "            print(\"achou:\", cat)"
   ]
  },
  {
   "cell_type": "code",
   "execution_count": 19,
   "id": "31f5e481-f168-4de1-aec7-1bf585aed3eb",
   "metadata": {},
   "outputs": [
    {
     "name": "stdout",
     "output_type": "stream",
     "text": [
      "achou: Madagascar cat\n",
      "achou: aircraft carrier\n",
      "achou: cardigan\n",
      "achou: car mirror\n",
      "achou: carousel\n",
      "achou: carpenter's kit\n",
      "achou: carton\n",
      "achou: car wheel\n",
      "achou: freight car\n",
      "achou: garbage truck\n",
      "achou: golfcart\n",
      "achou: horse cart\n",
      "achou: ocarina\n",
      "achou: oxcart\n",
      "achou: passenger car\n",
      "achou: recreational vehicle\n",
      "achou: shopping cart\n",
      "achou: sports car\n",
      "achou: streetcar\n",
      "achou: tow truck\n",
      "achou: trailer truck\n",
      "achou: cardoon\n",
      "achou: carbonara\n"
     ]
    }
   ],
   "source": [
    "# Alexnet Model\n",
    "from torchvision.models import AlexNet_Weights\n",
    "\n",
    "find_vehicle_class(AlexNet_Weights.DEFAULT)"
   ]
  },
  {
   "cell_type": "code",
   "execution_count": 20,
   "id": "2c9b5497-b604-4fc6-a08e-63dd4c1a89f9",
   "metadata": {},
   "outputs": [
    {
     "name": "stdout",
     "output_type": "stream",
     "text": [
      "achou: Madagascar cat\n",
      "achou: aircraft carrier\n",
      "achou: cardigan\n",
      "achou: car mirror\n",
      "achou: carousel\n",
      "achou: carpenter's kit\n",
      "achou: carton\n",
      "achou: car wheel\n",
      "achou: freight car\n",
      "achou: garbage truck\n",
      "achou: golfcart\n",
      "achou: horse cart\n",
      "achou: ocarina\n",
      "achou: oxcart\n",
      "achou: passenger car\n",
      "achou: recreational vehicle\n",
      "achou: shopping cart\n",
      "achou: sports car\n",
      "achou: streetcar\n",
      "achou: tow truck\n",
      "achou: trailer truck\n",
      "achou: cardoon\n",
      "achou: carbonara\n"
     ]
    }
   ],
   "source": [
    "# EfficientNet_B2 Model\n",
    "from torchvision.models import EfficientNet_B2_Weights\n",
    "\n",
    "find_vehicle_class(EfficientNet_B2_Weights.DEFAULT)"
   ]
  },
  {
   "cell_type": "code",
   "execution_count": null,
   "id": "23aa37cd-d389-428e-a43f-0420253113cc",
   "metadata": {},
   "outputs": [],
   "source": []
  }
 ],
 "metadata": {
  "kernelspec": {
   "display_name": "Python 3 (ipykernel)",
   "language": "python",
   "name": "python3"
  },
  "language_info": {
   "codemirror_mode": {
    "name": "ipython",
    "version": 3
   },
   "file_extension": ".py",
   "mimetype": "text/x-python",
   "name": "python",
   "nbconvert_exporter": "python",
   "pygments_lexer": "ipython3",
   "version": "3.11.5"
  }
 },
 "nbformat": 4,
 "nbformat_minor": 5
}

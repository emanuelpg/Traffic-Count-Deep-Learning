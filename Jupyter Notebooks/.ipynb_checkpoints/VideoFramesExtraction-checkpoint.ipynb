{
 "cells": [
  {
   "cell_type": "code",
   "execution_count": 1,
   "id": "ec37cd07-bec8-4141-ac6d-c37371b8aee7",
   "metadata": {},
   "outputs": [],
   "source": [
    "import cv2\n",
    "import numpy as np\n",
    "import sys, os"
   ]
  },
  {
   "cell_type": "code",
   "execution_count": 2,
   "id": "5ad1363a-9f81-4214-b2e3-f16fc6442015",
   "metadata": {},
   "outputs": [
    {
     "name": "stdout",
     "output_type": "stream",
     "text": [
      "fps: 25.0 frames/sec\n",
      "frame_count: 750 frames\n",
      "duration: 30.0 seconds\n"
     ]
    }
   ],
   "source": [
    "video1 = cv2.VideoCapture(\"Dataset Atividade/road_video001.mp4\")\n",
    "\n",
    "fps = video1.get(cv2.CAP_PROP_FPS)\n",
    "print(f\"fps: {fps} frames/sec\")\n",
    "\n",
    "frame_count = video1.get(cv2.CAP_PROP_FRAME_COUNT)\n",
    "print(f\"frame_count: {int(frame_count)} frames\")\n",
    "\n",
    "duration = frame_count / fps\n",
    "print(f\"duration: {duration} seconds\")"
   ]
  },
  {
   "cell_type": "code",
   "execution_count": 3,
   "id": "f59d96dc-75a0-44c0-bf8c-9230ae97c8a9",
   "metadata": {},
   "outputs": [],
   "source": [
    "# Collection all videos on file\n",
    "videos = []\n",
    "videos_name = []\n",
    "for video_name in os.listdir(\"Dataset Atividade/\"):\n",
    "    videos_name.append(video_name)\n",
    "    video_atual = cv2.VideoCapture(f\"Dataset Atividade/{video_name}\")\n",
    "    videos.append(video_atual)"
   ]
  },
  {
   "cell_type": "code",
   "execution_count": 4,
   "id": "5a886dbf-395a-468d-99d4-7f4704bc2dcb",
   "metadata": {},
   "outputs": [],
   "source": [
    "def frame_extraction(video):\n",
    "    frames = []\n",
    "    frame_count = int(video.get(cv2.CAP_PROP_FRAME_COUNT))\n",
    "    for frame_id in range(frame_count):\n",
    "        video.set(cv2.CAP_PROP_POS_FRAMES, frame_id)\n",
    "        found, frame = video.read()\n",
    "        if(found):\n",
    "            frames.append(frame)\n",
    "    return np.array(frames)    "
   ]
  },
  {
   "cell_type": "code",
   "execution_count": 5,
   "id": "ce175c9d-41ff-401a-bc29-3c69f53206f5",
   "metadata": {},
   "outputs": [],
   "source": [
    "def frame_saving(frames, folder_path):\n",
    "    count = 0\n",
    "    for frame in frames:\n",
    "        cv2.imwrite(f\"{folder_path}/frame_{count}.jpg\", frame)\n",
    "        count += 1"
   ]
  },
  {
   "cell_type": "code",
   "execution_count": 6,
   "id": "e8cf2c2f-f761-41cc-8dc4-b9b05d71e7ee",
   "metadata": {},
   "outputs": [],
   "source": [
    "def create_directory(dir_name):\n",
    "    try:\n",
    "        os.mkdir(dir_name)\n",
    "    except:\n",
    "        print(\"ERROR: directory probably alredy exists, verify that\")"
   ]
  },
  {
   "cell_type": "code",
   "execution_count": 7,
   "id": "a81d4a0e-d428-4be1-9007-9db69c3d69db",
   "metadata": {},
   "outputs": [],
   "source": [
    "def video_frames_saving(videos, videos_name, parent_dir):\n",
    "    video_count = 0\n",
    "    for video in videos:\n",
    "        path = os.path.join(parent_dir, f\"frames_{videos_name[video_count]}\")\n",
    "        create_directory(path)\n",
    "        video_frames = frame_extraction(video)\n",
    "        frame_saving(video_frames, path)\n",
    "        video_count += 1"
   ]
  },
  {
   "cell_type": "code",
   "execution_count": 8,
   "id": "b9bda330-867b-42d9-80fd-939890667ea1",
   "metadata": {},
   "outputs": [
    {
     "name": "stdout",
     "output_type": "stream",
     "text": [
      "ERROR: directory probably alredy exists, verify that\n",
      "ERROR: directory probably alredy exists, verify that\n"
     ]
    }
   ],
   "source": [
    "# Creating Frames parent directory\n",
    "create_directory(\"Frames\")\n",
    "\n",
    "# Saving frames\n",
    "video_frames_saving(videos, videos_name, \"Frames/\")"
   ]
  },
  {
   "cell_type": "code",
   "execution_count": null,
   "id": "97599f53-8699-4264-b26f-973f950728fd",
   "metadata": {},
   "outputs": [],
   "source": []
  }
 ],
 "metadata": {
  "kernelspec": {
   "display_name": "Python 3 (ipykernel)",
   "language": "python",
   "name": "python3"
  },
  "language_info": {
   "codemirror_mode": {
    "name": "ipython",
    "version": 3
   },
   "file_extension": ".py",
   "mimetype": "text/x-python",
   "name": "python",
   "nbconvert_exporter": "python",
   "pygments_lexer": "ipython3",
   "version": "3.11.5"
  }
 },
 "nbformat": 4,
 "nbformat_minor": 5
}

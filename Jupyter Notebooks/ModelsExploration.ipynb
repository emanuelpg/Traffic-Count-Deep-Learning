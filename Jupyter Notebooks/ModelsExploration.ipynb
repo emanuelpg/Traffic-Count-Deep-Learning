{
 "cells": [
  {
   "cell_type": "code",
   "execution_count": 3,
   "id": "f34a2f58-eaa0-45bf-b792-3f693bf17fcc",
   "metadata": {},
   "outputs": [],
   "source": [
    "import pandas as pd\n",
    "import numpy as np\n",
    "import cv2\n",
    "import os, sys"
   ]
  },
  {
   "cell_type": "code",
   "execution_count": 4,
   "id": "eb92723a-23fd-4911-87b8-bedd4766a2f6",
   "metadata": {},
   "outputs": [],
   "source": [
    "images = []\n",
    "main_path = \"D:/Traffic-Count-Deep-Learning/Frames/frames_road_video001.mp4/\"\n",
    "for image_name in os.listdir(main_path):\n",
    "    images.append(cv2.imread(f\"{main_path}{image_name}\"))\n",
    "image_test = cv2.imread(\"D:/Traffic-Count-Deep-Learning/Frames/frames_road_video001.mp4/frame_0.jpg\")"
   ]
  },
  {
   "cell_type": "code",
   "execution_count": 5,
   "id": "b81710d2-1017-49b9-a54d-c54b59508fc5",
   "metadata": {},
   "outputs": [],
   "source": [
    "import torch\n",
    "import torchvision\n",
    "from ultralytics import YOLO"
   ]
  },
  {
   "cell_type": "code",
   "execution_count": 6,
   "id": "2d340f77-f437-4f44-a47a-70b6117d619a",
   "metadata": {},
   "outputs": [],
   "source": [
    "detection_model = YOLO('yolov8n.pt')\n",
    "classification_model = YOLO('yolov8n-cls.pt')\n",
    "pose_model = YOLO('yolov8n-pose.pt')"
   ]
  },
  {
   "cell_type": "code",
   "execution_count": 7,
   "id": "8f8c614a-6dd4-428f-89c7-ecff60a6caad",
   "metadata": {},
   "outputs": [
    {
     "name": "stdout",
     "output_type": "stream",
     "text": [
      "\n",
      "0: 384x640 11 cars, 1 bus, 1 train, 1 truck, 103.9ms\n",
      "Speed: 14.5ms preprocess, 103.9ms inference, 0.0ms postprocess per image at shape (1, 3, 384, 640)\n",
      "\n",
      "0: 224x224 submarine 0.20, convertible 0.09, wing 0.09, cannon 0.05, warplane 0.05, 5.4ms\n",
      "Speed: 12.8ms preprocess, 5.4ms inference, 0.0ms postprocess per image at shape (1, 3, 224, 224)\n",
      "\n",
      "0: 384x640 (no detections), 61.8ms\n",
      "Speed: 15.4ms preprocess, 61.8ms inference, 0.0ms postprocess per image at shape (1, 3, 384, 640)\n"
     ]
    }
   ],
   "source": [
    "detect = detection_model(image_test)[0]\n",
    "classify = classification_model(image_test)[0]\n",
    "pose = pose_model(image_test)[0]"
   ]
  },
  {
   "cell_type": "code",
   "execution_count": 8,
   "id": "906b39ed-8df5-4beb-b798-35c55a061a56",
   "metadata": {},
   "outputs": [
    {
     "name": "stdout",
     "output_type": "stream",
     "text": [
      "Classe encontrada: car\n",
      "Classe encontrada: car\n",
      "Classe encontrada: car\n",
      "Classe encontrada: truck\n",
      "Classe encontrada: car\n",
      "Classe encontrada: car\n",
      "Classe encontrada: car\n",
      "Classe encontrada: car\n",
      "Classe encontrada: car\n",
      "Classe encontrada: train\n",
      "Classe encontrada: car\n",
      "Classe encontrada: car\n",
      "Classe encontrada: car\n",
      "Classe encontrada: bus\n"
     ]
    }
   ],
   "source": [
    "names = detect.names\n",
    "for label in detect.boxes.cls:\n",
    "    print(f\"Classe encontrada: {names[int(label)]}\")"
   ]
  },
  {
   "cell_type": "code",
   "execution_count": 10,
   "id": "73ef1a31-efe6-4c2f-bff0-ecbe54c44f89",
   "metadata": {},
   "outputs": [
    {
     "ename": "TypeError",
     "evalue": "Detection.__init__() missing 2 required positional arguments: 'confidence' and 'feature'",
     "output_type": "error",
     "traceback": [
      "\u001b[1;31m---------------------------------------------------------------------------\u001b[0m",
      "\u001b[1;31mTypeError\u001b[0m                                 Traceback (most recent call last)",
      "Cell \u001b[1;32mIn[10], line 6\u001b[0m\n\u001b[0;32m      4\u001b[0m tracker \u001b[38;5;241m=\u001b[39m DeepSortTracker()\n\u001b[0;32m      5\u001b[0m \u001b[38;5;28;01mfor\u001b[39;00m image \u001b[38;5;129;01min\u001b[39;00m images:\n\u001b[1;32m----> 6\u001b[0m     dets \u001b[38;5;241m=\u001b[39m \u001b[43mDetection\u001b[49m\u001b[43m(\u001b[49m\u001b[43mimage\u001b[49m\u001b[43m)\u001b[49m\n\u001b[0;32m      7\u001b[0m     online_targets \u001b[38;5;241m=\u001b[39m tracker\u001b[38;5;241m.\u001b[39mupdate(dets\u001b[38;5;241m.\u001b[39mboxes)\n",
      "\u001b[1;31mTypeError\u001b[0m: Detection.__init__() missing 2 required positional arguments: 'confidence' and 'feature'"
     ]
    }
   ],
   "source": [
    "from deepsort.tracker import DeepSortTracker\n",
    "from deepsort.detection import Detection\n",
    "\n",
    "tracker = DeepSortTracker()\n",
    "for image in images:\n",
    "    dets = Detection(image)\n",
    "    online_targets = tracker.update(dets.boxes)"
   ]
  },
  {
   "cell_type": "code",
   "execution_count": null,
   "id": "7e296c90-e222-47e1-9919-d9407838072d",
   "metadata": {},
   "outputs": [],
   "source": []
  },
  {
   "cell_type": "code",
   "execution_count": null,
   "id": "e17cde61-f861-4dc2-81e1-8c3228be7a72",
   "metadata": {},
   "outputs": [],
   "source": []
  },
  {
   "cell_type": "code",
   "execution_count": null,
   "id": "ded65346-2bab-4084-826b-1e3afe872a66",
   "metadata": {},
   "outputs": [],
   "source": []
  },
  {
   "cell_type": "code",
   "execution_count": 16,
   "id": "86e2032c-7664-455c-9245-2bb73a9e30ed",
   "metadata": {},
   "outputs": [],
   "source": [
    "def show_image(image):\n",
    "    cv2.imshow(\"image\", image)\n",
    "    cv2.waitKey(0)\n",
    "    cv2.destroyAllWindows()"
   ]
  },
  {
   "cell_type": "code",
   "execution_count": 17,
   "id": "29a1919f-37bf-47da-ad46-d8efb7c5ab1e",
   "metadata": {},
   "outputs": [],
   "source": [
    "from PIL import Image\n",
    "\n",
    "im_array = result.plot()\n",
    "im = Image.fromarray(im_array[..., ::-1])\n",
    "im.show()  "
   ]
  },
  {
   "cell_type": "code",
   "execution_count": null,
   "id": "37df463c-f75b-4d57-9c4b-d5f0096702b5",
   "metadata": {},
   "outputs": [],
   "source": []
  }
 ],
 "metadata": {
  "kernelspec": {
   "display_name": "Python 3 (ipykernel)",
   "language": "python",
   "name": "python3"
  },
  "language_info": {
   "codemirror_mode": {
    "name": "ipython",
    "version": 3
   },
   "file_extension": ".py",
   "mimetype": "text/x-python",
   "name": "python",
   "nbconvert_exporter": "python",
   "pygments_lexer": "ipython3",
   "version": "3.11.5"
  }
 },
 "nbformat": 4,
 "nbformat_minor": 5
}
